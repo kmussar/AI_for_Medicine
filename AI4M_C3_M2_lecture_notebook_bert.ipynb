{
 "cells": [
  {
   "cell_type": "markdown",
   "metadata": {
    "toc": true
   },
   "source": [
    "<h1>Table of Contents<span class=\"tocSkip\"></span></h1>\n",
    "<div class=\"toc\"><ul class=\"toc-item\"><li><span><a href=\"#AI-for-Medicine-Course-3-Week-2-lecture-notebook\" data-toc-modified-id=\"AI-for-Medicine-Course-3-Week-2-lecture-notebook-1\"><span class=\"toc-item-num\">1&nbsp;&nbsp;</span>AI for Medicine Course 3 Week 2 lecture notebook</a></span></li><li><span><a href=\"#Preparing-Input-for-Text-Classification\" data-toc-modified-id=\"Preparing-Input-for-Text-Classification-2\"><span class=\"toc-item-num\">2&nbsp;&nbsp;</span>Preparing Input for Text Classification</a></span><ul class=\"toc-item\"><li><span><a href=\"#Import-Library\" data-toc-modified-id=\"Import-Library-2.1\"><span class=\"toc-item-num\">2.1&nbsp;&nbsp;</span>Import Library</a></span></li><li><span><a href=\"#Define-Model-Inputs\" data-toc-modified-id=\"Define-Model-Inputs-2.2\"><span class=\"toc-item-num\">2.2&nbsp;&nbsp;</span>Define Model Inputs</a></span></li><li><span><a href=\"#Tokenize-Sentences\" data-toc-modified-id=\"Tokenize-Sentences-2.3\"><span class=\"toc-item-num\">2.3&nbsp;&nbsp;</span>Tokenize Sentences</a></span></li><li><span><a href=\"#Convert-Tokens-to-Numerical-Representations\" data-toc-modified-id=\"Convert-Tokens-to-Numerical-Representations-2.4\"><span class=\"toc-item-num\">2.4&nbsp;&nbsp;</span>Convert Tokens to Numerical Representations</a></span></li><li><span><a href=\"#Apply-Padding\" data-toc-modified-id=\"Apply-Padding-2.5\"><span class=\"toc-item-num\">2.5&nbsp;&nbsp;</span>Apply Padding</a></span></li><li><span><a href=\"#Add-the-Input-Mask\" data-toc-modified-id=\"Add-the-Input-Mask-2.6\"><span class=\"toc-item-num\">2.6&nbsp;&nbsp;</span>Add the Input Mask</a></span></li><li><span><a href=\"#Manipulating-Tensors\" data-toc-modified-id=\"Manipulating-Tensors-2.7\"><span class=\"toc-item-num\">2.7&nbsp;&nbsp;</span>Manipulating Tensors</a></span></li></ul></li></ul></div>"
   ]
  },
  {
   "cell_type": "markdown",
   "metadata": {},
   "source": [
    "## AI for Medicine Course 3 Week 2 lecture notebook \n",
    "## Preparing Input for Text Classification"
   ]
  },
  {
   "cell_type": "markdown",
   "metadata": {},
   "source": [
    "In this lecture notebook you'll be working with input for text classification models. You'll simulate [BERT's](https://github.com/google-research/bert) tokenizer for a simple example, and then use it for real in the upcoming assignment!"
   ]
  },
  {
   "cell_type": "markdown",
   "metadata": {},
   "source": [
    "### Import Library"
   ]
  },
  {
   "cell_type": "code",
   "execution_count": 2,
   "metadata": {},
   "outputs": [
    {
     "name": "stderr",
     "output_type": "stream",
     "text": [
      "C:\\Users\\kmuss\\Anaconda3\\lib\\site-packages\\tensorflow\\python\\framework\\dtypes.py:516: FutureWarning: Passing (type, 1) or '1type' as a synonym of type is deprecated; in a future version of numpy, it will be understood as (type, (1,)) / '(1,)type'.\n",
      "  _np_qint8 = np.dtype([(\"qint8\", np.int8, 1)])\n",
      "C:\\Users\\kmuss\\Anaconda3\\lib\\site-packages\\tensorflow\\python\\framework\\dtypes.py:517: FutureWarning: Passing (type, 1) or '1type' as a synonym of type is deprecated; in a future version of numpy, it will be understood as (type, (1,)) / '(1,)type'.\n",
      "  _np_quint8 = np.dtype([(\"quint8\", np.uint8, 1)])\n",
      "C:\\Users\\kmuss\\Anaconda3\\lib\\site-packages\\tensorflow\\python\\framework\\dtypes.py:518: FutureWarning: Passing (type, 1) or '1type' as a synonym of type is deprecated; in a future version of numpy, it will be understood as (type, (1,)) / '(1,)type'.\n",
      "  _np_qint16 = np.dtype([(\"qint16\", np.int16, 1)])\n",
      "C:\\Users\\kmuss\\Anaconda3\\lib\\site-packages\\tensorflow\\python\\framework\\dtypes.py:519: FutureWarning: Passing (type, 1) or '1type' as a synonym of type is deprecated; in a future version of numpy, it will be understood as (type, (1,)) / '(1,)type'.\n",
      "  _np_quint16 = np.dtype([(\"quint16\", np.uint16, 1)])\n",
      "C:\\Users\\kmuss\\Anaconda3\\lib\\site-packages\\tensorflow\\python\\framework\\dtypes.py:520: FutureWarning: Passing (type, 1) or '1type' as a synonym of type is deprecated; in a future version of numpy, it will be understood as (type, (1,)) / '(1,)type'.\n",
      "  _np_qint32 = np.dtype([(\"qint32\", np.int32, 1)])\n",
      "C:\\Users\\kmuss\\Anaconda3\\lib\\site-packages\\tensorflow\\python\\framework\\dtypes.py:525: FutureWarning: Passing (type, 1) or '1type' as a synonym of type is deprecated; in a future version of numpy, it will be understood as (type, (1,)) / '(1,)type'.\n",
      "  np_resource = np.dtype([(\"resource\", np.ubyte, 1)])\n",
      "C:\\Users\\kmuss\\Anaconda3\\lib\\site-packages\\tensorboard\\compat\\tensorflow_stub\\dtypes.py:541: FutureWarning: Passing (type, 1) or '1type' as a synonym of type is deprecated; in a future version of numpy, it will be understood as (type, (1,)) / '(1,)type'.\n",
      "  _np_qint8 = np.dtype([(\"qint8\", np.int8, 1)])\n",
      "C:\\Users\\kmuss\\Anaconda3\\lib\\site-packages\\tensorboard\\compat\\tensorflow_stub\\dtypes.py:542: FutureWarning: Passing (type, 1) or '1type' as a synonym of type is deprecated; in a future version of numpy, it will be understood as (type, (1,)) / '(1,)type'.\n",
      "  _np_quint8 = np.dtype([(\"quint8\", np.uint8, 1)])\n",
      "C:\\Users\\kmuss\\Anaconda3\\lib\\site-packages\\tensorboard\\compat\\tensorflow_stub\\dtypes.py:543: FutureWarning: Passing (type, 1) or '1type' as a synonym of type is deprecated; in a future version of numpy, it will be understood as (type, (1,)) / '(1,)type'.\n",
      "  _np_qint16 = np.dtype([(\"qint16\", np.int16, 1)])\n",
      "C:\\Users\\kmuss\\Anaconda3\\lib\\site-packages\\tensorboard\\compat\\tensorflow_stub\\dtypes.py:544: FutureWarning: Passing (type, 1) or '1type' as a synonym of type is deprecated; in a future version of numpy, it will be understood as (type, (1,)) / '(1,)type'.\n",
      "  _np_quint16 = np.dtype([(\"quint16\", np.uint16, 1)])\n",
      "C:\\Users\\kmuss\\Anaconda3\\lib\\site-packages\\tensorboard\\compat\\tensorflow_stub\\dtypes.py:545: FutureWarning: Passing (type, 1) or '1type' as a synonym of type is deprecated; in a future version of numpy, it will be understood as (type, (1,)) / '(1,)type'.\n",
      "  _np_qint32 = np.dtype([(\"qint32\", np.int32, 1)])\n",
      "C:\\Users\\kmuss\\Anaconda3\\lib\\site-packages\\tensorboard\\compat\\tensorflow_stub\\dtypes.py:550: FutureWarning: Passing (type, 1) or '1type' as a synonym of type is deprecated; in a future version of numpy, it will be understood as (type, (1,)) / '(1,)type'.\n",
      "  np_resource = np.dtype([(\"resource\", np.ubyte, 1)])\n"
     ]
    }
   ],
   "source": [
    "import tensorflow as tf"
   ]
  },
  {
   "cell_type": "markdown",
   "metadata": {},
   "source": [
    "### Define Model Inputs"
   ]
  },
  {
   "cell_type": "markdown",
   "metadata": {},
   "source": [
    "Say you're in the following situation: You have a passage containing a patient's medical information and would like your model to be able to answer questions using information from this passage. First, you'll need to reformulate this question and text in a way that BERT can interpret correctly. Let's define a question and the passage:"
   ]
  },
  {
   "cell_type": "code",
   "execution_count": 3,
   "metadata": {},
   "outputs": [],
   "source": [
    "q = \"How old is the patient?\"\n",
    "p = '''\n",
    "The patient is a 64-year-old male named Bob. \n",
    "He has no history of chronic spine conditions but is \n",
    "showing mild degenerative changes in the lumbar spine and old right rib fractures.\n",
    "'''"
   ]
  },
  {
   "cell_type": "markdown",
   "metadata": {},
   "source": [
    "### Tokenize Sentences"
   ]
  },
  {
   "cell_type": "markdown",
   "metadata": {},
   "source": [
    "With this information, you would normally use BERT's tokenizer to tokenize the sentences like this: \n",
    "```python\n",
    "tokenizer.tokenize(q)\n",
    "```\n",
    "\n",
    "Luckily, this has already been taken care of for you!"
   ]
  },
  {
   "cell_type": "code",
   "execution_count": 4,
   "metadata": {},
   "outputs": [],
   "source": [
    "q_tokens = ['How', 'old', 'is', 'the', 'patient', '?']\n",
    "p_tokens = ['The', 'patient', 'is', 'a', '64', 'year', 'old', 'male', 'named', 'Bob', '.',\n",
    "            'He', 'has', 'no', 'history', 'of', 'chronic', 'spine', 'conditions', 'but', 'is',\n",
    "            'showing', 'mild', 'de', '##gene', '##rative', 'changes', 'in', 'the', 'l', '##umba',\n",
    "            '##r', 'spine', 'and', 'old', 'right', 'rib', 'fracture', '##s', '.']\n",
    "classification_token = '[CLS]'\n",
    "separator_token = '[SEP]'"
   ]
  },
  {
   "cell_type": "markdown",
   "metadata": {},
   "source": [
    "The classification token and separator token are also provided. These tokens can be accessed using the tokenizer like so:\n",
    "\n",
    "```python\n",
    "CLS = tokenizer.cls_token\n",
    "SEP = tokenizer.sep_token\n",
    "```\n",
    "These tokens are really important because you'll need to combine the question and passage tokens into a single list of tokens. These special tokens allow BERT to understand which is which.\n",
    "\n",
    "The CLS, or classification token, should come first. Then, use the SEP token as a separator between the question and the passage. "
   ]
  },
  {
   "cell_type": "code",
   "execution_count": 5,
   "metadata": {},
   "outputs": [
    {
     "name": "stdout",
     "output_type": "stream",
     "text": [
      "The token list looks like this: \n",
      "\n",
      "['[CLS]', 'How', 'old', 'is', 'the', 'patient', '?', '[SEP]', 'The', 'patient', 'is', 'a', '64', 'year', 'old', 'male', 'named', 'Bob', '.', 'He', 'has', 'no', 'history', 'of', 'chronic', 'spine', 'conditions', 'but', 'is', 'showing', 'mild', 'de', '##gene', '##rative', 'changes', 'in', 'the', 'l', '##umba', '##r', 'spine', 'and', 'old', 'right', 'rib', 'fracture', '##s', '.']\n"
     ]
    }
   ],
   "source": [
    "tokens = []\n",
    "tokens.append(classification_token)\n",
    "tokens.extend(q_tokens)\n",
    "tokens.append(separator_token)\n",
    "tokens.extend(p_tokens)\n",
    "print(f\"The token list looks like this: \\n\\n{tokens}\")"
   ]
  },
  {
   "cell_type": "markdown",
   "metadata": {},
   "source": [
    "### Convert Tokens to Numerical Representations"
   ]
  },
  {
   "cell_type": "markdown",
   "metadata": {},
   "source": [
    "You now have the complete token list. However, you still need to convert these tokens into numeric representations of themselves. Usually, you would convert them like this:\n",
    "\n",
    "```python\n",
    "tokenizer.convert_tokens_to_ids(tokens)\n",
    "```\n",
    "Fortunately for you, this has also been provided: "
   ]
  },
  {
   "cell_type": "code",
   "execution_count": 6,
   "metadata": {},
   "outputs": [],
   "source": [
    "token_ids = [101, 1731, 1385, 1110, 1103, 5351, 136, 102, 1109, 5351, 1110, 170, 3324,\n",
    "             1214, 1385, 2581, 1417, 3162, 119, 1124, 1144, 1185, 1607, 1104, 13306, 8340,\n",
    "             2975, 1133, 1110, 4000, 10496, 1260, 27054, 15306, 2607, 1107, 1103, 181, 25509,\n",
    "             1197, 8340, 1105, 1385, 1268, 23298, 22869, 1116, 119]"
   ]
  },
  {
   "cell_type": "markdown",
   "metadata": {},
   "source": [
    "### Apply Padding"
   ]
  },
  {
   "cell_type": "markdown",
   "metadata": {},
   "source": [
    "This is great, except the length of the list of `token ids` depends on the number of words in the question. The passage and BERT only accepts fixed-size input.\n",
    "\n",
    "To deal with this, you'll use **padding**, which involves filling out the rest of this list with an empty value until it reaches a maximum length that you set. \n",
    "\n",
    "In this case you'll use \"0\" as your empty value, 60 as the maximum length, and then leverage the `pad_sequences()` function from Keras' Sequence module:"
   ]
  },
  {
   "cell_type": "code",
   "execution_count": 7,
   "metadata": {},
   "outputs": [
    {
     "data": {
      "text/plain": [
       "array([[  101,  1731,  1385,  1110,  1103,  5351,   136,   102,  1109,\n",
       "         5351,  1110,   170,  3324,  1214,  1385,  2581,  1417,  3162,\n",
       "          119,  1124,  1144,  1185,  1607,  1104, 13306,  8340,  2975,\n",
       "         1133,  1110,  4000, 10496,  1260, 27054, 15306,  2607,  1107,\n",
       "         1103,   181, 25509,  1197,  8340,  1105,  1385,  1268, 23298,\n",
       "        22869,  1116,   119,     0,     0,     0,     0,     0,     0,\n",
       "            0,     0,     0,     0,     0,     0]])"
      ]
     },
     "execution_count": 7,
     "metadata": {},
     "output_type": "execute_result"
    }
   ],
   "source": [
    "from tensorflow.keras.preprocessing.sequence import pad_sequences\n",
    "\n",
    "max_length = 60\n",
    "\n",
    "token_ids = pad_sequences([token_ids], padding=\"post\", maxlen=max_length)\n",
    "token_ids"
   ]
  },
  {
   "cell_type": "markdown",
   "metadata": {},
   "source": [
    "It appears the padding has been done correctly. Usually, this list of token ids would need to be a Tensor, but this is easily recast using the `convert_to_tensor()` function from TensorFlow: "
   ]
  },
  {
   "cell_type": "code",
   "execution_count": 8,
   "metadata": {},
   "outputs": [
    {
     "data": {
      "text/plain": [
       "<tf.Tensor 'Const:0' shape=(1, 60) dtype=int32>"
      ]
     },
     "execution_count": 8,
     "metadata": {},
     "output_type": "execute_result"
    }
   ],
   "source": [
    "token_ids = tf.convert_to_tensor(token_ids)\n",
    "token_ids"
   ]
  },
  {
   "cell_type": "markdown",
   "metadata": {},
   "source": [
    "### Add the Input Mask"
   ]
  },
  {
   "cell_type": "markdown",
   "metadata": {},
   "source": [
    "You're almost done! BERT still needs an input mask as one of its inputs. An input mask is just a list of the same length as the `token ids` list, indicating whether a certain position contains a token or empty values created from padding.\n",
    "\n",
    "You'll see how to do this using Keras' Masking layer, but in this case it could be done more simply using a little Python. \n",
    "\n",
    "If you're interested in learning some of the details of padding and masking, check [this](https://www.tensorflow.org/guide/keras/masking_and_padding) out."
   ]
  },
  {
   "cell_type": "code",
   "execution_count": 9,
   "metadata": {},
   "outputs": [
    {
     "data": {
      "text/plain": [
       "<tf.Tensor 'masking/Squeeze:0' shape=(1, 60) dtype=bool>"
      ]
     },
     "execution_count": 9,
     "metadata": {},
     "output_type": "execute_result"
    }
   ],
   "source": [
    "from tensorflow.keras import layers\n",
    "\n",
    "masking_layer = layers.Masking()\n",
    "\n",
    "unmasked = tf.cast(\n",
    "    tf.tile(tf.expand_dims(tf.convert_to_tensor(\n",
    "        token_ids), axis=-1), [1, 1, 1]),\n",
    "    tf.float32)\n",
    "\n",
    "masked = masking_layer(unmasked)\n",
    "token_mask = masked._keras_mask\n",
    "token_mask"
   ]
  },
  {
   "cell_type": "markdown",
   "metadata": {},
   "source": [
    "As you can see, the token mask outputs `True` for tokens and `False` for padding.\n",
    "\n",
    "Now you've successfully created and formatted the inputs necessary to use the BERT model!\n",
    "\n",
    "In cases where you don't want to use Keras, you can get the same result by using plain Python lists, which provide a different structure and data type than the one produced by the Masking layer. "
   ]
  },
  {
   "cell_type": "markdown",
   "metadata": {},
   "source": [
    "### Manipulating Tensors\n",
    "\n",
    "Before moving on, let's convert the padded token ids list to the same type as the one you just did:"
   ]
  },
  {
   "cell_type": "code",
   "execution_count": 10,
   "metadata": {},
   "outputs": [],
   "source": [
    "padded_token_ids = [101,  1731,  1385,  1110,  1103,  5351,   136,   102,  1109,\n",
    "                    5351,  1110,   170,  3324,  1214,  1385,  2581,  1417,  3162,\n",
    "                    119,  1124,  1144,  1185,  1607,  1104, 13306,  8340,  2975,\n",
    "                    1133,  1110,  4000, 10496,  1260, 27054, 15306,  2607,  1107,\n",
    "                    1103,   181, 25509,  1197,  8340,  1105,  1385,  1268, 23298,\n",
    "                    22869,  1116,   119,     0,     0,     0,     0,     0,     0,\n",
    "                    0,     0,     0,     0,     0,     0]"
   ]
  },
  {
   "cell_type": "markdown",
   "metadata": {},
   "source": [
    "First let's convert the list into a tensor:"
   ]
  },
  {
   "cell_type": "code",
   "execution_count": 11,
   "metadata": {},
   "outputs": [
    {
     "data": {
      "text/plain": [
       "<tf.Tensor 'Const_1:0' shape=(60,) dtype=int32>"
      ]
     },
     "execution_count": 11,
     "metadata": {},
     "output_type": "execute_result"
    }
   ],
   "source": [
    "padded_token_ids = tf.convert_to_tensor(padded_token_ids)\n",
    "padded_token_ids"
   ]
  },
  {
   "cell_type": "markdown",
   "metadata": {},
   "source": [
    "Notice that the shape of this tensor doesn't match the desired one. You can easily check this by doing the following:"
   ]
  },
  {
   "cell_type": "code",
   "execution_count": 12,
   "metadata": {},
   "outputs": [
    {
     "data": {
      "text/plain": [
       "False"
      ]
     },
     "execution_count": 12,
     "metadata": {},
     "output_type": "execute_result"
    }
   ],
   "source": [
    "padded_token_ids.shape == token_ids.shape"
   ]
  },
  {
   "cell_type": "markdown",
   "metadata": {},
   "source": [
    "Using the `expand_dims()` function from TensorFlow you can reshape this tensor like this:"
   ]
  },
  {
   "cell_type": "code",
   "execution_count": 13,
   "metadata": {},
   "outputs": [
    {
     "data": {
      "text/plain": [
       "<tf.Tensor 'ExpandDims_1:0' shape=(1, 60) dtype=int32>"
      ]
     },
     "execution_count": 13,
     "metadata": {},
     "output_type": "execute_result"
    }
   ],
   "source": [
    "padded_token_ids = tf.expand_dims(padded_token_ids, 0)\n",
    "padded_token_ids"
   ]
  },
  {
   "cell_type": "code",
   "execution_count": 14,
   "metadata": {},
   "outputs": [
    {
     "data": {
      "text/plain": [
       "True"
      ]
     },
     "execution_count": 14,
     "metadata": {},
     "output_type": "execute_result"
    }
   ],
   "source": [
    "padded_token_ids.shape == token_ids.shape"
   ]
  },
  {
   "cell_type": "markdown",
   "metadata": {},
   "source": [
    "**Congratulations on finishing this lecture notebook!!!** \n",
    "\n",
    "You're all done preparing some simple input for BERT. Excellent job!"
   ]
  },
  {
   "cell_type": "code",
   "execution_count": null,
   "metadata": {},
   "outputs": [],
   "source": []
  }
 ],
 "metadata": {
  "anaconda-cloud": {},
  "kernelspec": {
   "display_name": "Python 3",
   "language": "python",
   "name": "python3"
  },
  "language_info": {
   "codemirror_mode": {
    "name": "ipython",
    "version": 3
   },
   "file_extension": ".py",
   "mimetype": "text/x-python",
   "name": "python",
   "nbconvert_exporter": "python",
   "pygments_lexer": "ipython3",
   "version": "3.7.3"
  },
  "toc": {
   "base_numbering": 1,
   "nav_menu": {},
   "number_sections": true,
   "sideBar": true,
   "skip_h1_title": true,
   "title_cell": "Table of Contents",
   "title_sidebar": "Contents",
   "toc_cell": true,
   "toc_position": {},
   "toc_section_display": true,
   "toc_window_display": false
  }
 },
 "nbformat": 4,
 "nbformat_minor": 4
}
